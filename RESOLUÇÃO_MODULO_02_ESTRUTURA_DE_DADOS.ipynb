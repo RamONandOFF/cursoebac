{
  "nbformat": 4,
  "nbformat_minor": 0,
  "metadata": {
    "colab": {
      "provenance": [],
      "toc_visible": true
    },
    "kernelspec": {
      "name": "python3",
      "display_name": "Python 3"
    }
  },
  "cells": [
    {
      "cell_type": "markdown",
      "metadata": {
        "id": "KJqp9AANOCtf"
      },
      "source": [
        "<img src=\"https://raw.githubusercontent.com/andre-marcos-perez/ebac-course-utils/main/media/logo/newebac_logo_black_half.png\" alt=\"ebac-logo\">\n",
        "\n",
        "---\n",
        "\n",
        "# **Módulo** | Python: Estruturas de Dados\n",
        "Caderno de **Exercícios**<br>\n",
        "Professor [André Perez](https://www.linkedin.com/in/andremarcosperez/)\n",
        "\n",
        "---"
      ]
    },
    {
      "cell_type": "markdown",
      "metadata": {
        "id": "d9jDtUbDOE1-"
      },
      "source": [
        "# **Tópicos**\n",
        "\n",
        "<ol type=\"1\">\n",
        "  <li>Listas;</li>\n",
        "  <li>Conjuntos;</li>\n",
        "  <li>Dicionários.</li>\n",
        "</ol>"
      ]
    },
    {
      "cell_type": "markdown",
      "metadata": {
        "id": "SmoHgt-lwkpD"
      },
      "source": [
        "---"
      ]
    },
    {
      "cell_type": "markdown",
      "metadata": {
        "id": "GABI6OW8OfQ2"
      },
      "source": [
        "# **Exercícios**"
      ]
    },
    {
      "cell_type": "markdown",
      "metadata": {
        "id": "muD1vxozykSC"
      },
      "source": [
        "## 1\\. Listas"
      ]
    },
    {
      "cell_type": "markdown",
      "metadata": {
        "id": "ahrFfCuBxJKs"
      },
      "source": [
        "Criei uma lista chamada `filmes` com o nome dos 10 primeiros filmes mais bem avaliados no site no [IMDB](https://www.imdb.com/chart/top/). Imprima o resultado."
      ]
    },
    {
      "cell_type": "code",
      "metadata": {
        "id": "OgL6Hv3bzOHI",
        "colab": {
          "base_uri": "https://localhost:8080/"
        },
        "outputId": "98f16a78-292d-47cb-c880-4ae51d957ed9"
      },
      "source": [
        "filmes = ['Um sonho de Liberdade','O Poderoso Chefão','Batman: O cavaleiro das Treevas','O Poderoso Chefão II','12 Homens e uma Sentença', 'A Lista de Schindler','O Sennhor dos Anéis: O Retorno do Rei', 'Pulp Fiction - Tempo de Violência', 'O Senhor dos Anéis: A Sociedade do Anel', 'Três Homens em Conflito']\n",
        "print(filmes)"
      ],
      "execution_count": 8,
      "outputs": [
        {
          "output_type": "stream",
          "name": "stdout",
          "text": [
            "['Um sonho de Liberdade', 'O Poderoso Chefão', 'Batman: O cavaleiro das Treevas', 'O Poderoso Chefão II', '12 Homens e uma Sentença', 'A Lista de Schindler', 'O Sennhor dos Anéis: O Retorno do Rei', 'Pulp Fiction - Tempo de Violência', 'O Senhor dos Anéis: A Sociedade do Anel', 'Três Homens em Conflito']\n"
          ]
        }
      ]
    },
    {
      "cell_type": "markdown",
      "metadata": {
        "id": "KI9zQRT2xa7m"
      },
      "source": [
        "Simule a movimentação do *ranking*. Utilize os métodos `insert` e `pop` para trocar a posição do primeiro e do segundo filme da lista. Imprima o resultado.\n",
        "\n"
      ]
    },
    {
      "cell_type": "code",
      "metadata": {
        "id": "zX3mA3_GzrXH",
        "colab": {
          "base_uri": "https://localhost:8080/"
        },
        "outputId": "5e3c58a1-9751-4ef0-bb4f-05781d929df9"
      },
      "source": [
        "filmes.pop(1)\n",
        "print(filmes)\n"
      ],
      "execution_count": 10,
      "outputs": [
        {
          "output_type": "stream",
          "name": "stdout",
          "text": [
            "['Um sonho de Liberdade', 'Batman: O cavaleiro das Treevas', 'O Poderoso Chefão II', '12 Homens e uma Sentença', 'A Lista de Schindler', 'O Sennhor dos Anéis: O Retorno do Rei', 'Pulp Fiction - Tempo de Violência', 'O Senhor dos Anéis: A Sociedade do Anel', 'Três Homens em Conflito']\n"
          ]
        }
      ]
    },
    {
      "cell_type": "code",
      "source": [
        "filmes.insert(0,'O Poderoso Chefão')\n",
        "print(filmes)\n"
      ],
      "metadata": {
        "colab": {
          "base_uri": "https://localhost:8080/"
        },
        "id": "jsovF_PIL-Fb",
        "outputId": "f34f5ac9-72d3-4578-b58b-9c8ce4951382"
      },
      "execution_count": 12,
      "outputs": [
        {
          "output_type": "stream",
          "name": "stdout",
          "text": [
            "['O Poderoso Chefão', 'Um sonho de Liberdade', 'Batman: O cavaleiro das Treevas', 'O Poderoso Chefão II', '12 Homens e uma Sentença', 'A Lista de Schindler', 'O Sennhor dos Anéis: O Retorno do Rei', 'Pulp Fiction - Tempo de Violência', 'O Senhor dos Anéis: A Sociedade do Anel', 'Três Homens em Conflito']\n"
          ]
        }
      ]
    },
    {
      "cell_type": "markdown",
      "metadata": {
        "id": "zMN1Q3jdwoJm"
      },
      "source": [
        "---"
      ]
    },
    {
      "cell_type": "markdown",
      "metadata": {
        "id": "lxa5L6uF0ZJE"
      },
      "source": [
        "## 2\\. Conjuntos"
      ]
    },
    {
      "cell_type": "markdown",
      "metadata": {
        "id": "9JahS2Kj0d5u"
      },
      "source": [
        "Aconteceu um erro no seu *ranking*. Simule a duplicação dos três últimos filmes da lista. Imprima o resultado."
      ]
    },
    {
      "cell_type": "code",
      "metadata": {
        "id": "BnjnLBNC6PGe"
      },
      "source": [],
      "execution_count": null,
      "outputs": []
    },
    {
      "cell_type": "code",
      "metadata": {
        "id": "gnkLMobMMlI_"
      },
      "source": [
        "filmes = ['Um sonho de Liberdade','O Poderoso Chefão','Batman: O cavaleiro das Treevas','O Poderoso Chefão II','12 Homens e uma Sentença', 'A Lista de Schindler','O Sennhor dos Anéis: O Retorno do Rei', 'Pulp Fiction - Tempo de Violência','Pulp Fiction - Tempo de Violência','O Senhor dos Anéis: A Sociedade do Anel','O Senhor dos Anéis: A Sociedade do Anel','Três Homens em Conflito','Três Homens em Conflito']\n"
      ],
      "execution_count": 14,
      "outputs": []
    },
    {
      "cell_type": "code",
      "source": [
        "print(filmes)\n"
      ],
      "metadata": {
        "colab": {
          "base_uri": "https://localhost:8080/"
        },
        "id": "oUKY3u2rNBk6",
        "outputId": "1bf9128e-1b9a-4481-ec9b-75808701fef2"
      },
      "execution_count": 15,
      "outputs": [
        {
          "output_type": "stream",
          "name": "stdout",
          "text": [
            "['Um sonho de Liberdade', 'O Poderoso Chefão', 'Batman: O cavaleiro das Treevas', 'O Poderoso Chefão II', '12 Homens e uma Sentença', 'A Lista de Schindler', 'O Sennhor dos Anéis: O Retorno do Rei', 'Pulp Fiction - Tempo de Violência', 'Pulp Fiction - Tempo de Violência', 'O Senhor dos Anéis: A Sociedade do Anel', 'O Senhor dos Anéis: A Sociedade do Anel', 'Três Homens em Conflito', 'Três Homens em Conflito']\n"
          ]
        }
      ]
    },
    {
      "cell_type": "markdown",
      "metadata": {
        "id": "suxTfCJB6ZiX"
      },
      "source": [
        "Utiliza a conversão `set` e `list` para remover os valores duplicados. Imprima o resultado."
      ]
    },
    {
      "cell_type": "code",
      "metadata": {
        "id": "ZvUGN-0n6joM",
        "colab": {
          "base_uri": "https://localhost:8080/"
        },
        "outputId": "7bbbc953-eaa5-4b74-8ffc-68c83a5b5a4d"
      },
      "source": [
        "filmes_sem_duplicatas = set(filmes)\n",
        "print(filmes_sem_duplicatas)\n"
      ],
      "execution_count": 25,
      "outputs": [
        {
          "output_type": "stream",
          "name": "stdout",
          "text": [
            "{'O Poderoso Chefão II', '12 Homens e uma Sentença', 'O Poderoso Chefão', 'Batman: O cavaleiro das Treevas', 'O Senhor dos Anéis: A Sociedade do Anel', 'O Sennhor dos Anéis: O Retorno do Rei', 'Um sonho de Liberdade', 'A Lista de Schindler', 'Três Homens em Conflito', 'Pulp Fiction - Tempo de Violência'}\n"
          ]
        }
      ]
    },
    {
      "cell_type": "markdown",
      "metadata": {
        "id": "ShkK35eQ6pAM"
      },
      "source": [
        "---"
      ]
    },
    {
      "cell_type": "markdown",
      "metadata": {
        "id": "EL_FzmxL6rTv"
      },
      "source": [
        "## 3\\. Dicionários"
      ]
    },
    {
      "cell_type": "markdown",
      "metadata": {
        "id": "i8l0gFqRCpfT"
      },
      "source": [
        "Repita os exercícios da parte 1 (listas). Os elementos da lista `filmes` devem ser dicionários no seguinte formato: `{'nome': <nome-do-filme>, 'ano': <ano do filme>, 'sinopse': <sinopse do filme>}`."
      ]
    },
    {
      "cell_type": "code",
      "metadata": {
        "id": "tu6MSFwGDnHv",
        "colab": {
          "base_uri": "https://localhost:8080/"
        },
        "outputId": "4e821441-d771-412e-cd77-3aa478ea4acc"
      },
      "source": [
        "filmes = {\n",
        "    'Ranking 01': {\n",
        "        'Nome': 'Um Sonho de Liberdade',\n",
        "        'Ano': 1994,\n",
        "        'Sinopse': 'Dois homens presos se reúnem ao longo de vários anos, encontrando consolo e eventual redenção através de atos de decência comum.'},\n",
        "    'Ranking 02':{\n",
        "        'Nome': 'O Poderoso Chefão',\n",
        "        'Ano': 1972,\n",
        "        'Sinopse': 'O patriarca idoso de uma dinastia do crime organizado transfere o controle de seu império clandestino para seu filho relutante.'},\n",
        "    'Ranking 03': {\n",
        "        'Nome': 'Batman: O Cavaleiro das Trevas',\n",
        "        'Ano': 2008,\n",
        "        'Sinopse': 'Quando a ameaça conhecida como O Coringa surge de seu passado, causa estragos e caos nas pessoas de Gotham. O Cavaleiro das Trevas deve aceitar um dos maiores testes para combater a injustiça.'},\n",
        "    'Ranking 04': {\n",
        "        'Nome': 'O Poderoso Chefão II',\n",
        "        'Ano': 1974,\n",
        "        'Sinopse': 'Em 1950, Michael Corleone, agora à frente da família, tenta expandir o negócio do crime a Las Vegas, Los Angeles e Cuba. Paralelamente, é revelada a história de Vito Corleone, e de como saiu da Sicília e chegou a Nova Iorque.'},\n",
        "    'Ranking 05': {\n",
        "        'Nome': '12 Homens e uma Sentença',\n",
        "        'Ano': 1957,\n",
        "        'Sinopse': 'O julgamento de um assassinato em Nova Iorque é frustrado por um único membro, cujo ceticismo força o júri a considerar cuidadosamente as evidências antes de dar o veredito.'},\n",
        "    'Ranking 06': {\n",
        "        'Nome': 'A Lista de Schindler',\n",
        "        'Ano': 1993,\n",
        "        'Sinopse': 'Na Polônia ocupada pelos alemães durante a Segunda Guerra Mundial, o industrial Oskar Schindler começa a ser preocupar com seus trabalhadores judeus depois de testemunhar sua perseguição pelos nazistas.'},\n",
        "    'Ranking 07': {\n",
        "        'Nome': 'O Senhor dos Anéis: O Retorno do Rei',\n",
        "        'Ano': 2003,\n",
        "        'Sinopse': 'Gandalf e Aragorn lideram o Mundo dos Homens contra o exército de Sauron para desviar o olhar de Frodo e Sam quando eles se aproximam á Montanha da Perdição com o Um Anel.'},\n",
        "    'Ranking 08': {\n",
        "        'Nome': 'Pulp Fiction - Tempo de Violência',\n",
        "        'Ano': 1994,\n",
        "        'Sinopse': 'As vidas de dois assassinos da máfia, um boxeador, um gângster e sua esposa, e um par de bandidos se entrelaçam em quatro histórias de violência e redenção.'},\n",
        "    'Ranking 09': {\n",
        "        'Nome': 'O Senhor dos Anéis: A Sociedade do Anel',\n",
        "        'Ano': 2001,\n",
        "        'Sinopse': 'Um manso hobbit do Condado e oito companheiros partem em uma jornada para destruir o poderoso Um Anel e salvar a Terra-média das Trevas.'},\n",
        "    'Ranking 10': {\n",
        "        'Nome': 'Três Homens em Conflito',\n",
        "        'Ano': 1966,\n",
        "        'Sinopse': 'Um impostor se junta com dois homens para encontrar fortuna num remoto cemitério.'}\n",
        "\n",
        "}\n",
        "\n",
        "print(filmes)\n",
        "\n",
        "\n",
        "\n"
      ],
      "execution_count": 39,
      "outputs": [
        {
          "output_type": "stream",
          "name": "stdout",
          "text": [
            "{'Ranking 01': {'Nome': 'Um Sonho de Liberdade', 'Ano': 1994, 'Sinopse': 'Dois homens presos se reúnem ao longo de vários anos, encontrando consolo e eventual redenção através de atos de decência comum.\\n'}, 'Ranking 02': {'Nome': 'O Poderoso Chefão', 'Ano': 1972, 'Sinopse': 'O patriarca idoso de uma dinastia do crime organizado transfere o controle de seu império clandestino para seu filho relutante.'}, 'Ranking 03': {'Nome': 'Batman: O Cavaleiro das Trevas', 'Ano': 2008, 'Sinopse': 'Quando a ameaça conhecida como O Coringa surge de seu passado, causa estragos e caos nas pessoas de Gotham. O Cavaleiro das Trevas deve aceitar um dos maiores testes para combater a injustiça.'}, 'Ranking 04': {'Nome': 'O Poderoso Chefão II', 'Ano': 1974, 'Sinopse': 'Em 1950, Michael Corleone, agora à frente da família, tenta expandir o negócio do crime a Las Vegas, Los Angeles e Cuba. Paralelamente, é revelada a história de Vito Corleone, e de como saiu da Sicília e chegou a Nova Iorque.'}, 'Ranking 05': {'Nome': '12 Homens e uma Sentença', 'Ano': 1957, 'Sinopse': 'O julgamento de um assassinato em Nova Iorque é frustrado por um único membro, cujo ceticismo força o júri a considerar cuidadosamente as evidências antes de dar o veredito.'}, 'Ranking 06': {'Nome': 'A Lista de Schindler', 'Ano': 1993, 'Sinopse': 'Na Polônia ocupada pelos alemães durante a Segunda Guerra Mundial, o industrial Oskar Schindler começa a ser preocupar com seus trabalhadores judeus depois de testemunhar sua perseguição pelos nazistas.'}, 'Ranking 07': {'Nome': 'O Senhor dos Anéis: O Retorno do Rei', 'Ano': 2003, 'Sinopse': 'Gandalf e Aragorn lideram o Mundo dos Homens contra o exército de Sauron para desviar o olhar de Frodo e Sam quando eles se aproximam á Montanha da Perdição com o Um Anel.'}, 'Ranking 08': {'Nome': 'Pulp Fiction - Tempo de Violência', 'Ano': 1994, 'Sinopse': 'As vidas de dois assassinos da máfia, um boxeador, um gângster e sua esposa, e um par de bandidos se entrelaçam em quatro histórias de violência e redenção.'}, 'Ranking 09': {'Nome': 'O Senhor dos Anéis: A Sociedade do Anel', 'Ano': 2001, 'Sinopse': 'Um manso hobbit do Condado e oito companheiros partem em uma jornada para destruir o poderoso Um Anel e salvar a Terra-média das Trevas.'}, 'Ranking 10': {'Nome': 'Três Homens em Conflito', 'Ano': 1966, 'Sinopse': 'Um impostor se junta com dois homens para encontrar fortuna num remoto cemitério.'}}\n"
          ]
        }
      ]
    }
  ]
}