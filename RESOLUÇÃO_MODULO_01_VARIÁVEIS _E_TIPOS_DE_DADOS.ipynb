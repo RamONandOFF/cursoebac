{
  "nbformat": 4,
  "nbformat_minor": 0,
  "metadata": {
    "colab": {
      "provenance": [],
      "toc_visible": true
    },
    "kernelspec": {
      "name": "python3",
      "display_name": "Python 3"
    }
  },
  "cells": [
    {
      "cell_type": "markdown",
      "metadata": {
        "id": "KJqp9AANOCtf"
      },
      "source": [
        "<img src=\"https://raw.githubusercontent.com/andre-marcos-perez/ebac-course-utils/main/media/logo/newebac_logo_black_half.png\" alt=\"ebac-logo\">\n",
        "\n",
        "---\n",
        "\n",
        "# **Módulo** | Python: Variáveis & Tipos de Dados\n",
        "Caderno de **Exercícios**<br>\n",
        "Professor [André Perez](https://www.linkedin.com/in/andremarcosperez/)\n",
        "\n",
        "---"
      ]
    },
    {
      "cell_type": "markdown",
      "metadata": {
        "id": "d9jDtUbDOE1-"
      },
      "source": [
        "# **Tópicos**\n",
        "\n",
        "<ol type=\"1\">\n",
        "  <li>Introdução ao Google Colab;</li>\n",
        "  <li>Variáveis;</li>\n",
        "  <li>Números;</li>\n",
        "  <li><i>Strings;</i></li>\n",
        "  <li>Boleanos.</li>\n",
        "</ol>"
      ]
    },
    {
      "cell_type": "markdown",
      "metadata": {
        "id": "SmoHgt-lwkpD"
      },
      "source": [
        "---"
      ]
    },
    {
      "cell_type": "markdown",
      "metadata": {
        "id": "GABI6OW8OfQ2"
      },
      "source": [
        "# **Exercícios**"
      ]
    },
    {
      "cell_type": "markdown",
      "metadata": {
        "id": "muD1vxozykSC"
      },
      "source": [
        "## 1\\. Google Colab"
      ]
    },
    {
      "cell_type": "markdown",
      "metadata": {
        "id": "ahrFfCuBxJKs"
      },
      "source": [
        "Crie uma célula de código que escreva o texto \"Olá mundo!\", utilize o comando `print`."
      ]
    },
    {
      "cell_type": "code",
      "source": [
        "print(\"Olá Mundo!\")"
      ],
      "metadata": {
        "colab": {
          "base_uri": "https://localhost:8080/"
        },
        "id": "wEZ-XDYVA_Xs",
        "outputId": "8e074a70-82bf-40ff-8709-27d88a54b473"
      },
      "execution_count": 2,
      "outputs": [
        {
          "output_type": "stream",
          "name": "stdout",
          "text": [
            "Olá Mundo!\n"
          ]
        }
      ]
    },
    {
      "cell_type": "markdown",
      "metadata": {
        "id": "KI9zQRT2xa7m"
      },
      "source": [
        "Crie uma célua de texto e adicione uma imagem."
      ]
    },
    {
      "cell_type": "markdown",
      "source": [
        "![urso.jpeg](data:image/jpeg;base64,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)"
      ],
      "metadata": {
        "id": "LdtOTGt-BItn"
      }
    },
    {
      "cell_type": "markdown",
      "metadata": {
        "id": "zMN1Q3jdwoJm"
      },
      "source": [
        "---"
      ]
    },
    {
      "cell_type": "markdown",
      "metadata": {
        "id": "tFYOPLS3xiwe"
      },
      "source": [
        "## 2\\. Números"
      ]
    },
    {
      "cell_type": "markdown",
      "metadata": {
        "id": "O2G9gt7tx2c-"
      },
      "source": [
        "Preencha as células de código para preencher os valores de (A), (B) e (C) na tabela de ticket médio abaixo:\n",
        "\n",
        "<br>\n",
        "\n",
        "| Dia   | Valor Total Vendas | Qtd Total Vendas | Ticket Medio |\n",
        "|-------|--------------------|------------------|--------------|\n",
        "| 19/01 | (A)                | 3                | 320.52       |\n",
        "| 20/01 | 834.47             | (B)              | 119.21       |\n",
        "| 23/01 | 15378.12           | 5                | (C)          |"
      ]
    },
    {
      "cell_type": "code",
      "metadata": {
        "id": "nsrKH9EizNRD"
      },
      "source": [
        "# (961,56)"
      ],
      "execution_count": 5,
      "outputs": []
    },
    {
      "cell_type": "code",
      "metadata": {
        "id": "QQ1GBGHJzMmi"
      },
      "source": [
        "# (7)"
      ],
      "execution_count": 6,
      "outputs": []
    },
    {
      "cell_type": "code",
      "metadata": {
        "id": "W-li0nSMzKNa"
      },
      "source": [
        "# (3.075,624)"
      ],
      "execution_count": 7,
      "outputs": []
    },
    {
      "cell_type": "markdown",
      "metadata": {
        "id": "3eoP-Vj9yzh8"
      },
      "source": [
        "---"
      ]
    },
    {
      "cell_type": "markdown",
      "metadata": {
        "id": "yUJ6kdony6Pr"
      },
      "source": [
        "## 3\\. Strings"
      ]
    },
    {
      "cell_type": "markdown",
      "metadata": {
        "id": "KDuZpg-5zCvO"
      },
      "source": [
        "Aplique três métodos distintos na *string* abaixo, você pode conferir alguns métodos neste [link](https://www.w3schools.com/python/python_ref_string.asp):"
      ]
    },
    {
      "cell_type": "code",
      "metadata": {
        "id": "k9zbyf7BzjKj",
        "colab": {
          "base_uri": "https://localhost:8080/"
        },
        "outputId": "18632e17-a97f-4765-e417-4114511a0c55"
      },
      "source": [
        "cancao = 'Roda mundo, roda gigante, roda moinho, roda pião.'\n",
        "print(cancao.capitalize())\n",
        "print(cancao.upper())\n",
        "print(cancao.casefold())\n"
      ],
      "execution_count": 15,
      "outputs": [
        {
          "output_type": "stream",
          "name": "stdout",
          "text": [
            "Roda mundo, roda gigante, roda moinho, roda pião.\n",
            "RODA MUNDO, RODA GIGANTE, RODA MOINHO, RODA PIÃO.\n",
            "roda mundo, roda gigante, roda moinho, roda pião.\n"
          ]
        }
      ]
    },
    {
      "cell_type": "markdown",
      "metadata": {
        "id": "guZMHXVq0FnC"
      },
      "source": [
        "Extraia da string abaixo o valor da taxa **selic** na variável `selic` e o valor do **ano** na variavel `ano`. Imprima os valores na tela."
      ]
    },
    {
      "cell_type": "code",
      "metadata": {
        "id": "cbx_P4IQ0agK",
        "colab": {
          "base_uri": "https://localhost:8080/"
        },
        "outputId": "e4a95a2e-b446-4388-edb8-09609c85a632"
      },
      "source": [
        "noticia = 'Selic vai a 2,75% e supera expectativas; é a primeira alta em 6 anos.'\n",
        "selic = noticia[12:18]\n",
        "print(selic)\n",
        "\n",
        "ano = noticia[-7:-1]\n",
        "print(ano)\n"
      ],
      "execution_count": 29,
      "outputs": [
        {
          "output_type": "stream",
          "name": "stdout",
          "text": [
            "2,75% \n",
            "6 anos\n"
          ]
        }
      ]
    },
    {
      "cell_type": "markdown",
      "metadata": {
        "id": "wWzbu-OC0z3L"
      },
      "source": [
        "---"
      ]
    },
    {
      "cell_type": "markdown",
      "metadata": {
        "id": "no8w_Ati01xP"
      },
      "source": [
        "## 4\\. Booleanos"
      ]
    },
    {
      "cell_type": "markdown",
      "metadata": {
        "id": "D_0tC3SC099N"
      },
      "source": [
        "Utilize a tabela da verdade para responder: qual o valor da variável x?"
      ]
    },
    {
      "cell_type": "code",
      "metadata": {
        "id": "XwIEbxf91SpU",
        "colab": {
          "base_uri": "https://localhost:8080/"
        },
        "outputId": "fc5331b5-18bf-4c39-e880-6458fa8d0aac"
      },
      "source": [
        "a = False\n",
        "b = True\n",
        "\n",
        "x = not a & b\n",
        "\n",
        "bool(x)"
      ],
      "execution_count": 31,
      "outputs": [
        {
          "output_type": "execute_result",
          "data": {
            "text/plain": [
              "True"
            ]
          },
          "metadata": {},
          "execution_count": 31
        }
      ]
    }
  ]
}